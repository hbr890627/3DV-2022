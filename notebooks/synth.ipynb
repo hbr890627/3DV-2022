{
 "cells": [
  {
   "cell_type": "code",
   "execution_count": 39,
   "metadata": {},
   "outputs": [],
   "source": [
    "import glob\n",
    "import os\n",
    "import numpy as np\n",
    "import matplotlib.pyplot as plt\n",
    "from tqdm.notebook import tqdm\n",
    "\n",
    "import torch\n",
    "from torchvision.utils import save_image"
   ]
  },
  {
   "cell_type": "code",
   "execution_count": 40,
   "metadata": {},
   "outputs": [],
   "source": [
    "from pytorch3d.structures import Meshes\n",
    "from pytorch3d.io import load_obj\n",
    "from pytorch3d.renderer import TexturesVertex\n",
    "from pytorch3d.ops import sample_points_from_meshes\n",
    "\n",
    "import trimesh\n",
    "from trimesh.voxel import creation\n",
    "from trimesh.viewer import in_notebook\n",
    "\n",
    "from scene import Scene"
   ]
  },
  {
   "cell_type": "code",
   "execution_count": 41,
   "metadata": {},
   "outputs": [],
   "source": [
    "device = torch.device('cuda:0')\n",
    "obj_list = sorted(glob.glob('../data/chair/*/*.obj'))"
   ]
  },
  {
   "cell_type": "code",
   "execution_count": 42,
   "metadata": {},
   "outputs": [
    {
     "name": "stdout",
     "output_type": "stream",
     "text": [
      "../data/chair/100b18376b885f206ae9ad7e32c4139d/view.png\n",
      "['..', 'data', 'chair', '100b18376b885f206ae9ad7e32c4139d', '']\n"
     ]
    }
   ],
   "source": [
    "db = sorted(glob.glob(os.path.join(\"../data/chair\", '*/')))\n",
    "\n",
    "print(os.path.join(db[2], 'view.png'))\n",
    "print(db[2].split('/'))"
   ]
  },
  {
   "cell_type": "code",
   "execution_count": 43,
   "metadata": {},
   "outputs": [],
   "source": [
    "def load_mesh(obj, device):\n",
    "    verts, faces, _ = load_obj(obj, load_textures=False)\n",
    "    faces_idx = faces.verts_idx\n",
    "\n",
    "    verts_rgb = torch.ones_like(verts)[None]  # (1, V, 3)\n",
    "    textures = TexturesVertex(verts_features=verts_rgb.to(device))\n",
    "\n",
    "    mesh = Meshes(\n",
    "        verts=[verts.to(device)],\n",
    "        faces=[faces_idx.to(device)],\n",
    "        textures=textures\n",
    "    )\n",
    "\n",
    "    return mesh"
   ]
  },
  {
   "cell_type": "code",
   "execution_count": 44,
   "metadata": {},
   "outputs": [],
   "source": [
    "scene = Scene(device=device)\n",
    "#scene.set_cam(1.7, 50, 90)\n",
    "scene.set_light(location=[[0.0, 0.0, 0.0]])\n",
    "scene.set_rasterizer(image_size=256)\n",
    "#scene.set_renderer()"
   ]
  },
  {
   "cell_type": "code",
   "execution_count": 45,
   "metadata": {},
   "outputs": [
    {
     "data": {
      "application/vnd.jupyter.widget-view+json": {
       "model_id": "cae4518953ba4cf48f4b6d793c7b31f0",
       "version_major": 2,
       "version_minor": 0
      },
      "text/plain": [
       "  0%|          | 0/6778 [00:00<?, ?it/s]"
      ]
     },
     "metadata": {},
     "output_type": "display_data"
    }
   ],
   "source": [
    "import shutil\n",
    "import os\n",
    "\n",
    "pbar = tqdm(obj_list)\n",
    "\n",
    "for obj in pbar:\n",
    "    id = obj.split('/')[3]\n",
    "    path = obj.replace('model.obj', '')\n",
    "    pbar.set_description(f\"Processing: {id}\")\n",
    "\n",
    "    if not os.path.exists(os.path.join(path, \"voxel.npy\")):\n",
    "        print(path)\n",
    "    \n",
    "#     if os.path.exists(os.path.join(path, \"model.mtl\")):\n",
    "#         os.remove(os.path.join(path, \"model.mtl\"))\n",
    "\n",
    "#     if os.path.exists(os.path.join(path, \"models/\")):\n",
    "#         print(os.path.join(path, \"models/\"))\n",
    "#         os.rmdir(os.path.join(path, \"models/\"))\n",
    "\n",
    "#     if os.path.exists(os.path.join(path, \"images/\")):\n",
    "#         print(os.path.join(path, \"images/\"))\n",
    "#         shutil.rmtree(os.path.join(path, \"images/\"))"
   ]
  },
  {
   "cell_type": "code",
   "execution_count": 46,
   "metadata": {},
   "outputs": [
    {
     "data": {
      "text/plain": [
       "6778"
      ]
     },
     "execution_count": 46,
     "metadata": {},
     "output_type": "execute_result"
    }
   ],
   "source": [
    "len(obj_list)"
   ]
  },
  {
   "cell_type": "code",
   "execution_count": 51,
   "metadata": {},
   "outputs": [
    {
     "data": {
      "application/vnd.jupyter.widget-view+json": {
       "model_id": "b20611659bf240e282c5326ec6031c6d",
       "version_major": 2,
       "version_minor": 0
      },
      "text/plain": [
       "  0%|          | 0/1 [00:00<?, ?it/s]"
      ]
     },
     "metadata": {},
     "output_type": "display_data"
    },
    {
     "name": "stderr",
     "output_type": "stream",
     "text": [
      "An exception occurred in telemetry logging.Disabling telemetry to prevent further exceptions.\n",
      "Traceback (most recent call last):\n",
      "  File \"/home/hbr/anaconda3/envs/py3d/lib/python3.10/site-packages/iopath/common/file_io.py\", line 946, in __log_tmetry_keys\n",
      "    handler.log_event()\n",
      "  File \"/home/hbr/anaconda3/envs/py3d/lib/python3.10/site-packages/iopath/common/event_logger.py\", line 97, in log_event\n",
      "    del self._evt\n",
      "AttributeError: _evt\n",
      "specified material (material_0)  not loaded!\n",
      "specified material (material)  not loaded!\n",
      "concatenating texture: may result in visual artifacts\n",
      "Mesh is non-watertight for contained point query!\n",
      "/tmp/ipykernel_2232/2302619767.py:27: DeprecationWarning: `np.bool` is a deprecated alias for the builtin `bool`. To silence this warning, use `bool` by itself. Doing this will not modify any behavior and is safe. If you specifically wanted the numpy scalar type, use `np.bool_` here.\n",
      "Deprecated in NumPy 1.20; for more details and guidance: https://numpy.org/devdocs/release/1.20.0-notes.html#deprecations\n",
      "  np_voxel = np.array(voxel.encoding.data, dtype=np.bool)\n"
     ]
    },
    {
     "name": "stdout",
     "output_type": "stream",
     "text": [
      "[[[False False False ... False False False]\n",
      "  [False False False ... False False False]\n",
      "  [False False False ... False False False]\n",
      "  ...\n",
      "  [False False False ... False False False]\n",
      "  [False False False ... False False False]\n",
      "  [False False False ... False False False]]\n",
      "\n",
      " [[False False False ... False False False]\n",
      "  [False False False ... False False False]\n",
      "  [False False False ... False False False]\n",
      "  ...\n",
      "  [False False False ... False False False]\n",
      "  [False False False ... False False False]\n",
      "  [False False False ... False False False]]\n",
      "\n",
      " [[False False False ... False False False]\n",
      "  [False False False ... False False False]\n",
      "  [False False False ... False False False]\n",
      "  ...\n",
      "  [False False False ... False False False]\n",
      "  [False False False ... False False False]\n",
      "  [False False False ... False False False]]\n",
      "\n",
      " ...\n",
      "\n",
      " [[False False False ... False False False]\n",
      "  [False False False ... False False False]\n",
      "  [False False False ... False False False]\n",
      "  ...\n",
      "  [False False False ... False False False]\n",
      "  [False False False ... False False False]\n",
      "  [False False False ... False False False]]\n",
      "\n",
      " [[False False False ... False False False]\n",
      "  [False False False ... False False False]\n",
      "  [False False False ... False False False]\n",
      "  ...\n",
      "  [False False False ... False False False]\n",
      "  [False False False ... False False False]\n",
      "  [False False False ... False False False]]\n",
      "\n",
      " [[False False False ... False False False]\n",
      "  [False False False ... False False False]\n",
      "  [False False False ... False False False]\n",
      "  ...\n",
      "  [False False False ... False False False]\n",
      "  [False False False ... False False False]\n",
      "  [False False False ... False False False]]]\n",
      "True\n"
     ]
    },
    {
     "data": {
      "image/png": "[encoded data removed]",
      "text/plain": [
       "<Figure size 432x288 with 1 Axes>"
      ]
     },
     "metadata": {
      "needs_background": "light"
     },
     "output_type": "display_data"
    }
   ],
   "source": [
    "# pbar = tqdm(obj_list[4480:])\n",
    "pbar = tqdm(obj_list[:1])\n",
    "\n",
    "for obj in pbar:\n",
    "    id = obj.split('/')[3]\n",
    "    path = obj.replace('model.obj', '')\n",
    "    # print(path)\n",
    "    pbar.set_description(f\"Processing: {id}\")\n",
    "\n",
    "    mesh = load_mesh(obj, device)\n",
    "    elev = np.random.randint(0, 45, 1)\n",
    "    azim = np.random.randint(30, 150, 1)\n",
    "    scene.set_cam(1.0, elev, azim)\n",
    "    scene.set_renderer()\n",
    "    image = scene.renderer(mesh)\n",
    "    image = image[0, ..., :3].permute(2, 0, 1)\n",
    "    save_image(image, path+'view.png')\n",
    "\n",
    "    # point_cloud = sample_points_from_meshes(mesh,num_samples=2048)\n",
    "    # point_cloud = point_cloud.squeeze(0)\n",
    "    # np.save(path + 'point_cloud',point_cloud.cpu().numpy())\n",
    "    # mesh = tri_load_obj(path, skip_materials=False)\n",
    "    mesh = trimesh.load(obj, file_type='obj', resolver=None, force='mesh', skip_materials=True)\n",
    "    # print(type(mesh))\n",
    "    voxel = creation.local_voxelize(mesh, mesh.centroid, mesh.extents.max() / 32, radius=16, fill=True)\n",
    "    # print(voxel.shape)\n",
    "    np_voxel = np.array(voxel.encoding.data, dtype=np.bool)\n",
    "    # np_voxel = np.array(voxel.matrix)  \n",
    "    np.save(path + 'voxel',np_voxel)\n",
    "    print(np_voxel)\n",
    "    is_nt = in_notebook()\n",
    "    print(is_nt)\n",
    "    voxel.show()\n",
    "    ax = plt.figure().add_subplot(projection='3d')\n",
    "    # ax.voxels(np_voxel, facecolors='red', edgecolor='k')\n",
    "    ax.voxels(np_voxel, facecolors='red')\n",
    "\n",
    "    \n",
    "    "
   ]
  },
  {
   "cell_type": "code",
   "execution_count": null,
   "metadata": {},
   "outputs": [],
   "source": []
  }
 ],
 "metadata": {
  "interpreter": {
   "hash": "666b93cac792ab6a883ef949746a27c268d02bea7c2d9b15bed60e4a57dd399f"
  },
  "kernelspec": {
   "display_name": "Python 3.10.4 ('py3d')",
   "language": "python",
   "name": "python3"
  },
  "language_info": {
   "codemirror_mode": {
    "name": "ipython",
    "version": 3
   },
   "file_extension": ".py",
   "mimetype": "text/x-python",
   "name": "python",
   "nbconvert_exporter": "python",
   "pygments_lexer": "ipython3",
   "version": "3.10.4"
  },
  "orig_nbformat": 4
 },
 "nbformat": 4,
 "nbformat_minor": 2
}
